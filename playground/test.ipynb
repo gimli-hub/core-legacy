{
 "cells": [
  {
   "cell_type": "code",
   "execution_count": null,
   "id": "initial_id",
   "metadata": {
    "collapsed": true
   },
   "outputs": [],
   "source": [
    "import os\n",
    "\n",
    "from langgraph.checkpoint.aiosqlite import AsyncSqliteSaver\n",
    "\n",
    "os.environ[\"OPENAI_API_KEY\"] = \"\"\n",
    "os.environ[\"LANGCHAIN_TRACING_V2\"] = \"true\"\n",
    "os.environ[\"LANGCHAIN_ENDPOINT\"] = \"https://api.smith.langchain.com\"\n",
    "os.environ[\"LANGCHAIN_API_KEY\"] = \"\"\n",
    "os.environ[\"LANGCHAIN_PROJECT\"] = \"fidrox-ai\"\n",
    "\n",
    "os.environ[\"PLAYER_TEMPLATE_PATH\"] = \"./data/templates/\"\n",
    "\n",
    "# from app.core.graph.workflows import graph"
   ]
  },
  {
   "cell_type": "code",
   "outputs": [],
   "source": [
    "from langchain_openai import ChatOpenAI\n",
    "from app.core.graph import create_graph\n",
    "from app.core.plugins.registry import ensure_plugin_registry\n",
    "\n",
    "\n",
    "plugin_names = [\"greeter\", \"kamino\", \"jupyter\", \"symmetry\", \"coin-price-chart-similarity-search\", \"coin-technical-analyzer\"]\n",
    "registry = ensure_plugin_registry()\n",
    "\n",
    "plugins = [registry.plugins[plugin_name]() for plugin_name in plugin_names]\n",
    "\n",
    "llm = ChatOpenAI(model=\"gpt-4o\", temperature=0)\n",
    "\n",
    "graph = create_graph(llm, plugins, memory=AsyncSqliteSaver.from_conn_string(\":memory:\"))\n"
   ],
   "metadata": {
    "collapsed": false
   },
   "id": "d38b9c5ff3b0e004",
   "execution_count": null
  },
  {
   "cell_type": "code",
   "outputs": [],
   "source": [
    "from IPython.display import display, HTML\n",
    "import base64\n",
    "\n",
    "\n",
    "def display_image(image_bytes: bytes, width=1500):\n",
    "    decoded_img_bytes = base64.b64encode(image_bytes).decode(\"utf-8\")\n",
    "    html = f'<img src=\"data:image/png;base64,{decoded_img_bytes}\" style=\"width: {width}px;\" />'\n",
    "    display(HTML(html))"
   ],
   "metadata": {
    "collapsed": false
   },
   "id": "21df33bedfc476da",
   "execution_count": null
  },
  {
   "cell_type": "code",
   "outputs": [],
   "source": [
    "import nest_asyncio\n",
    "from langchain_core.runnables.graph import CurveStyle, NodeColors, MermaidDrawMethod\n",
    "\n",
    "nest_asyncio.apply()  # Required for Jupyter Notebook to run async functions\n",
    "\n",
    "display_image(\n",
    "    graph.get_graph().draw_mermaid_png(\n",
    "        curve_style=CurveStyle.LINEAR,\n",
    "        node_colors=NodeColors(start=\"#ffdfba\", end=\"#baffc9\", other=\"#fad7de\"),\n",
    "        wrap_label_n_words=9,\n",
    "        output_file_path=None,\n",
    "        draw_method=MermaidDrawMethod.PYPPETEER,\n",
    "        background_color=\"white\",\n",
    "        padding=10,\n",
    "    )\n",
    ")"
   ],
   "metadata": {
    "collapsed": false
   },
   "id": "8e44949bb6b746b9",
   "execution_count": null
  },
  {
   "cell_type": "code",
   "outputs": [],
   "source": [
    "config = {\n",
    "    \"configurable\": {\n",
    "        \"thread_id\": \"bla\",\n",
    "        \"wallet_id\": \"adasdasdad\",\n",
    "        \"chat_id\": \"bla\"\n",
    "    }\n",
    "}\n"
   ],
   "metadata": {
    "collapsed": false
   },
   "id": "3a10c52bc1e8f6fd",
   "execution_count": null
  },
  {
   "cell_type": "code",
   "outputs": [],
   "source": [
    "async for s in graph.astream(\n",
    "        {\n",
    "            \"messages\": [\n",
    "                \"Hi, how are you?\"\n",
    "            ],\n",
    "        },\n",
    "        config,\n",
    "        stream_mode=\"values\"\n",
    "):\n",
    "    if \"__end__\" not in s:\n",
    "        s[\"messages\"][-1].pretty_print()"
   ],
   "metadata": {
    "collapsed": false
   },
   "id": "2d7fe283e7b208d4",
   "execution_count": null
  },
  {
   "cell_type": "code",
   "outputs": [],
   "source": [
    "(await graph.aget_state(config)).values.get(\"used_agents\", [])"
   ],
   "metadata": {
    "collapsed": false
   },
   "id": "6cdb33766fdb0a8f",
   "execution_count": null
  }
 ],
 "metadata": {
  "kernelspec": {
   "display_name": "Python 3",
   "language": "python",
   "name": "python3"
  },
  "language_info": {
   "codemirror_mode": {
    "name": "ipython",
    "version": 2
   },
   "file_extension": ".py",
   "mimetype": "text/x-python",
   "name": "python",
   "nbconvert_exporter": "python",
   "pygments_lexer": "ipython2",
   "version": "2.7.6"
  }
 },
 "nbformat": 4,
 "nbformat_minor": 5
}
