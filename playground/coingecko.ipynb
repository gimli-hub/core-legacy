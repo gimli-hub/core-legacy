{
 "cells": [
  {
   "cell_type": "code",
   "execution_count": null,
   "id": "initial_id",
   "metadata": {
    "collapsed": true
   },
   "outputs": [],
   "source": [
    "import requests\n",
    "import os \n",
    "import time \n",
    "\n",
    "os.environ['COINMARKETCAP_API_KEY'] = 'CG-mETiggwB5XXC5scj2tZuvKRN'\n",
    "\n",
    "BASE_URL = \"https://api.coingecko.com/api/v3/\""
   ]
  },
  {
   "cell_type": "code",
   "execution_count": null,
   "id": "5679ff2b",
   "metadata": {},
   "outputs": [],
   "source": [
    "url = BASE_URL + \"coins/markets?vs_currency=usd&order=market_cap_desc\"\n",
    "info_url = BASE_URL + \"coins/markets\"\n",
    "headers = {\"x-cg-api-key\": \"CG-mETiggwB5XXC5scj2tZuvKRN\"}"
   ]
  },
  {
   "cell_type": "code",
   "outputs": [],
   "source": [
    "requests.get(url, headers=headers).json()"
   ],
   "metadata": {
    "collapsed": false
   },
   "id": "6de4fe8fb2d43c51",
   "execution_count": null
  },
  {
   "cell_type": "code",
   "execution_count": null,
   "id": "05f829f4",
   "metadata": {},
   "outputs": [],
   "source": [
    "coins = []\n",
    "\n",
    "for i in range(3):\n",
    "    response = requests.get(f\"{url}/per_page=100&page={i}\", headers=headers)\n",
    "    coins_batch = response.json()\n",
    "    coins += coins_batch"
   ]
  },
  {
   "cell_type": "code",
   "outputs": [],
   "source": [
    "len(coins)"
   ],
   "metadata": {
    "collapsed": false
   },
   "id": "78bef79b2f933f00",
   "execution_count": null
  },
  {
   "cell_type": "code",
   "execution_count": null,
   "id": "e1cb221f",
   "metadata": {},
   "outputs": [],
   "source": [
    "# coin_to_description = {}"
   ]
  },
  {
   "cell_type": "code",
   "execution_count": null,
   "id": "c0f062ed",
   "metadata": {},
   "outputs": [],
   "source": [
    "response = requests.get(f\"{info_url}/{coins[0]['id']}?localization=false&tickers=false&market_data=false&community_data=false&developer_data=false\", headers=headers)"
   ]
  },
  {
   "cell_type": "code",
   "execution_count": null,
   "id": "3db73f1e",
   "metadata": {},
   "outputs": [],
   "source": [
    "response.json()"
   ]
  },
  {
   "cell_type": "code",
   "execution_count": null,
   "id": "a7e61b87",
   "metadata": {},
   "outputs": [],
   "source": []
  },
  {
   "cell_type": "code",
   "execution_count": null,
   "id": "95048713",
   "metadata": {},
   "outputs": [],
   "source": [
    "for i, coin in enumerate(coins[66:500]):\n",
    "    response = requests.get(f\"{info_url}/{coin['id']}?localization=false&tickers=false&market_data=false&community_data=false&developer_data=false\", headers=headers)\n",
    "    coin_data = response.json()\n",
    "    print(coin_data)\n",
    "    description = coin_data['description']['en']\n",
    "    coin_to_description[coin['id']] = description\n",
    "    if i % 5 == 0:\n",
    "        time.sleep(61)"
   ]
  },
  {
   "cell_type": "code",
   "execution_count": null,
   "id": "555ea6ca",
   "metadata": {},
   "outputs": [],
   "source": [
    "len(coin_to_description)"
   ]
  },
  {
   "cell_type": "code",
   "outputs": [],
   "source": [
    "import json"
   ],
   "metadata": {
    "collapsed": false
   },
   "id": "a9757d1def9d8ea6",
   "execution_count": null
  },
  {
   "cell_type": "code",
   "execution_count": null,
   "id": "32a50d95",
   "metadata": {},
   "outputs": [],
   "source": [
    "\n",
    "with open(\"../data/coin-description.json\", \"w\") as f:\n",
    "    json.dump(coin_to_description, f)"
   ]
  },
  {
   "cell_type": "code",
   "execution_count": null,
   "id": "c2947229",
   "metadata": {},
   "outputs": [],
   "source": [
    "len(coins)"
   ]
  },
  {
   "cell_type": "code",
   "outputs": [],
   "source": [],
   "metadata": {
    "collapsed": false
   },
   "id": "2d00d4ee47152d11"
  },
  {
   "cell_type": "code",
   "outputs": [],
   "source": [],
   "metadata": {
    "collapsed": false
   },
   "id": "9bac600c1dd1640b"
  },
  {
   "cell_type": "code",
   "outputs": [],
   "source": [
    "result = requests.get(\"https://token.jup.ag/strict\").json()"
   ],
   "metadata": {
    "collapsed": false
   },
   "id": "dedffb2445aba438",
   "execution_count": null
  },
  {
   "cell_type": "code",
   "outputs": [],
   "source": [
    "address_to_token = {}"
   ],
   "metadata": {
    "collapsed": false
   },
   "id": "13480a7707e4aa16",
   "execution_count": null
  },
  {
   "cell_type": "code",
   "outputs": [],
   "source": [
    "for token in result:\n",
    "    address = token['address']\n",
    "    address_to_token[address] = token"
   ],
   "metadata": {
    "collapsed": false
   },
   "id": "12b709523ded1da6",
   "execution_count": null
  },
  {
   "cell_type": "code",
   "outputs": [],
   "source": [
    "be_coins = []"
   ],
   "metadata": {
    "collapsed": false
   },
   "id": "2059a35e46ec5b9d",
   "execution_count": null
  },
  {
   "cell_type": "code",
   "outputs": [],
   "source": [
    "import tqdm"
   ],
   "metadata": {
    "collapsed": false
   },
   "id": "50a4bd55205eead7",
   "execution_count": null
  },
  {
   "cell_type": "code",
   "outputs": [],
   "source": [
    "for i in range(100):\n",
    "    coins = requests.get(\n",
    "        f'https://public-api.birdeye.so/public/tokenlist?sort_by=mc&sort_type=desc&offset={i*50}&limit=50', \n",
    "        headers={\"x-chain\": \"solana\", \"X-API-KEY\": \"9f0fc8d9eb0f42758e36ea3f71bec8d6\"}\n",
    "    ).json()\n",
    "    be_coins += coins['data']['tokens']\n"
   ],
   "metadata": {
    "collapsed": false
   },
   "id": "bf708140ffd31575",
   "execution_count": null
  },
  {
   "cell_type": "code",
   "outputs": [],
   "source": [
    "len(be_coins)"
   ],
   "metadata": {
    "collapsed": false
   },
   "id": "bd7f1ed24c1ecade",
   "execution_count": null
  },
  {
   "cell_type": "code",
   "outputs": [],
   "source": [
    "be_coins"
   ],
   "metadata": {
    "collapsed": false
   },
   "id": "fe21f058c854c888",
   "execution_count": null
  },
  {
   "cell_type": "code",
   "outputs": [],
   "source": [
    "result = []"
   ],
   "metadata": {
    "collapsed": false
   },
   "id": "cc030cf6e43a5529",
   "execution_count": null
  },
  {
   "cell_type": "code",
   "outputs": [],
   "source": [
    "sym_set = set()"
   ],
   "metadata": {
    "collapsed": false
   },
   "id": "1cfdb5dcedd9d4f0",
   "execution_count": null
  },
  {
   "cell_type": "code",
   "outputs": [],
   "source": [
    "x = 0\n",
    "for coin in be_coins:\n",
    "    \n",
    "    if coin['address'] in address_to_token and (symbol := address_to_token[coin['address']]['symbol'].lower()) not in sym_set:\n",
    "        result.append({\n",
    "            \"symbol\": symbol,\n",
    "            \"address\": coin['address'],\n",
    "        })\n",
    "        sym_set.add(symbol)\n",
    "        if len(result) >= 10:\n",
    "            break\n",
    "        "
   ],
   "metadata": {
    "collapsed": false
   },
   "id": "61587f2eeadc0f9",
   "execution_count": null
  },
  {
   "cell_type": "code",
   "outputs": [],
   "source": [
    "import json\n",
    "with open(\"../data/coins-list.json\", \"w\") as f:\n",
    "    json.dump(result, f)"
   ],
   "metadata": {
    "collapsed": false
   },
   "id": "8d990d2c8358ea3d",
   "execution_count": null
  },
  {
   "cell_type": "code",
   "outputs": [],
   "source": [
    "result"
   ],
   "metadata": {
    "collapsed": false
   },
   "id": "147c80c16a0dcf40",
   "execution_count": null
  },
  {
   "cell_type": "code",
   "outputs": [],
   "source": [],
   "metadata": {
    "collapsed": false
   },
   "id": "686cccb7f5df63d"
  }
 ],
 "metadata": {
  "kernelspec": {
   "display_name": "Python 3",
   "language": "python",
   "name": "python3"
  },
  "language_info": {
   "codemirror_mode": {
    "name": "ipython",
    "version": 3
   },
   "file_extension": ".py",
   "mimetype": "text/x-python",
   "name": "python",
   "nbconvert_exporter": "python",
   "pygments_lexer": "ipython3",
   "version": "3.11.8"
  }
 },
 "nbformat": 4,
 "nbformat_minor": 5
}
